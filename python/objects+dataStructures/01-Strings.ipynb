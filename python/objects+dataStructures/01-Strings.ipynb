{
 "cells": [
  {
   "cell_type": "code",
   "execution_count": 24,
   "metadata": {},
   "outputs": [
    {
     "data": {
      "text/plain": [
       "'ablE was I ere I saw elbA'"
      ]
     },
     "execution_count": 24,
     "metadata": {},
     "output_type": "execute_result"
    }
   ],
   "source": [
    "#python script to reverse a string\n",
    "# class Solution:\n",
    "#      def reverseString(self, s):\n",
    "#        \"\"\"\n",
    "#         :type s: str\n",
    "#          :rtype: str\n",
    "#          \"\"\"\n",
    "\n",
    "#         s1 = list(s)\n",
    "#         s1.reverse()\n",
    "#         return ''.join(s1)\n",
    "\n",
    "\n",
    "## Python code to reverse a string\n",
    "# using extended slice syntax\n",
    "'''Extended slice offers to put a “step” field as\n",
    "[start,stop,step], and giving no field as start and stop\n",
    "indicates default to 0 and string length respectively and “-1”\n",
    "denotes starting from end and stop at the start, hence reversing string.'''\n",
    "# Function to reverse a string\n",
    "\n",
    "string = 'Able was I ere I saw Elba'\n",
    "\n",
    "def reverse(string):\n",
    "    string = string[::-1]\n",
    "    return string\n",
    "\n",
    "reverse(string)\n",
    "\n"
   ]
  },
  {
   "cell_type": "code",
   "execution_count": 25,
   "metadata": {},
   "outputs": [
    {
     "name": "stdout",
     "output_type": "stream",
     "text": [
      "The original string  is : Able was I ere I saw Elba\n",
      "The reversed string(using loops) is : ablE was I ere I saw elbA\n"
     ]
    }
   ],
   "source": [
    "#-------------------------\n",
    "\n",
    "# Python code to reverse a string\n",
    "# using loop\n",
    "'''we call a function to reverse a string,\n",
    "which iterates to every element and intelligently\n",
    "join each character in the beginning so as to obtain the reversed string.'''\n",
    "def reverse(s):\n",
    "  str = \"\"\n",
    "  for i in s:\n",
    "    str = i + str\n",
    "  return str\n",
    "\n",
    "s = \"Able was I ere I saw Elba\"\n",
    "\n",
    "print (\"The original string  is : \",end=\"\")\n",
    "print (s)\n",
    "\n",
    "print (\"The reversed string(using loops) is : \",end=\"\")\n",
    "print (reverse(s))\n",
    "\n"
   ]
  },
  {
   "cell_type": "code",
   "execution_count": 5,
   "metadata": {},
   "outputs": [
    {
     "name": "stdout",
     "output_type": "stream",
     "text": [
      "The original string is : Halleluya\n",
      "The reversed string(using recursion) is : ayulellaH\n"
     ]
    }
   ],
   "source": [
    "#----------------------------------------------\n",
    "# Python code to reverse a string\n",
    "# using recursion\n",
    "'''string is passed as an argument to a recursive\n",
    "function to reverse the string.\n",
    "-In the function, the base condition is that if the length of the string\n",
    "is equal to 0, the string is returned.\n",
    "-If not equal to 0, the reverse function is recursively called to slice the\n",
    "part of the string except the first character and concatenate\n",
    "the first character to the end of the sliced string.'''\n",
    "\n",
    "def reverse(s):\n",
    "\tif len(s) == 0:\n",
    "\t\treturn s\n",
    "\telse:\n",
    "\t\treturn reverse(s[1:]) + s[0]\n",
    "\n",
    "s = \"Halleluya\"\n",
    "\n",
    "print (\"The original string is : \",end=\"\")\n",
    "print (s)\n",
    "\n",
    "print (\"The reversed string(using recursion) is : \",end=\"\")\n",
    "print (reverse(s))\n",
    "\n",
    "\n"
   ]
  },
  {
   "cell_type": "code",
   "execution_count": 7,
   "metadata": {},
   "outputs": [
    {
     "name": "stdout",
     "output_type": "stream",
     "text": [
      "The original string  is : Geeksforgeeks\n",
      "The reversed string(using reversed) is : skeegrofskeeG\n"
     ]
    }
   ],
   "source": [
    "# Python code to reverse a string\n",
    "# using reversed()\n",
    "'''The reversed() returns the reversed iterator of the given string\n",
    " and then its elements are joined empty string separated using join().\n",
    " And reversed order string is formed.\n",
    " '''\n",
    "# Function to reverse a string\n",
    "def reverse(string):\n",
    "    string = \"\".join(reversed(string))\n",
    "    return string\n",
    "\n",
    "s = \"Geeksforgeeks\"\n",
    "\n",
    "print (\"The original string  is : \",end=\"\")\n",
    "print (s)\n",
    "\n",
    "print (\"The reversed string(using reversed) is : \",end=\"\")\n",
    "print (reverse(s))\n"
   ]
  },
  {
   "cell_type": "code",
   "execution_count": null,
   "metadata": {
    "collapsed": true
   },
   "outputs": [],
   "source": []
  }
 ],
 "metadata": {
  "kernelspec": {
   "display_name": "Python 3",
   "language": "python",
   "name": "python3"
  },
  "language_info": {
   "codemirror_mode": {
    "name": "ipython",
    "version": 3
   },
   "file_extension": ".py",
   "mimetype": "text/x-python",
   "name": "python",
   "nbconvert_exporter": "python",
   "pygments_lexer": "ipython3",
   "version": "3.6.1"
  }
 },
 "nbformat": 4,
 "nbformat_minor": 1
}
