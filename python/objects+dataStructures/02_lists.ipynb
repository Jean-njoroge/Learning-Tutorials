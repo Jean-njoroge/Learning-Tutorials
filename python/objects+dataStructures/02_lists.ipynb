{
 "cells": [
  {
   "cell_type": "markdown",
   "metadata": {},
   "source": [
    "### What are lists\n",
    "* List stores a series of items in a particular order.\n",
    "* Lists allows you to stor sets of information\n",
    "* lists are one of pythons ost powerful features, they ties together many important conceptsin proramming\n",
    "* lists are mutable ie. the elements inside a list can be changed\n",
    "* a list can hold different object types (eg, strings, float, etc)"
   ]
  },
  {
   "cell_type": "markdown",
   "metadata": {},
   "source": [
    "### Defining a list\n",
    "* use square brackets [] to define a list\n",
    "* use commas to seperate individual items in the lise\n",
    "* use plural codes for lists to make your code easier to read"
   ]
  },
  {
   "cell_type": "code",
   "execution_count": null,
   "metadata": {},
   "outputs": [],
   "source": [
    "#making a  list\n",
    "my_users = ['val', 'jean', 'cathy', 'wambui']\n",
    "print (\"This is an example of creating a list {p}\" .format(p = my_users))\n",
    "\n",
    "\n",
    "#list with different object type\n",
    "my_list = ['string', 23, 1.2, 'o']\n",
    "print (\"This is an example of list with differentt object types {p}\" .format(p=my_list))"
   ]
  },
  {
   "cell_type": "markdown",
   "metadata": {},
   "source": [
    "### List length\n",
    "* The len() function returns the number of items in a list"
   ]
  },
  {
   "cell_type": "code",
   "execution_count": null,
   "metadata": {},
   "outputs": [],
   "source": [
    "#find the lenght in a list\n",
    "num_users = len(my_users)\n",
    "print ('We have ' +  str(num_users) + ' users')"
   ]
  },
  {
   "cell_type": "markdown",
   "metadata": {},
   "source": [
    "### Accesing elements in a list\n",
    "* individual elements in a list are accesed according to their position, called *index*\n",
    "* Index of first element is 0, the second element is index 1\n",
    "* Negative items refer items at the end of the list\n",
    "* To get a particulat element, write name of list, then index of element in sq bracket ie name_of_list[0]\n"
   ]
  },
  {
   "cell_type": "code",
   "execution_count": null,
   "metadata": {},
   "outputs": [],
   "source": [
    "#Get first element\n",
    "first_user = my_users[0]\n",
    "print (first_user)\n",
    "\n",
    "#Get second element\n",
    "second_user = my_users[1]\n",
    "print (second_user)\n",
    "\n",
    "#Get last element\n",
    "newest_user = my_users[-1]\n",
    "print (newest_user)"
   ]
  },
  {
   "cell_type": "markdown",
   "metadata": {},
   "source": [
    "### Modifying Individul items in a list\n",
    "* after defining list, you can make changes in individual items\n",
    "* refer to the individual item of the list you want to modify\n"
   ]
  },
  {
   "cell_type": "code",
   "execution_count": null,
   "metadata": {},
   "outputs": [],
   "source": [
    "#changing an element\n",
    "my_users[0] = 'njeri'\n",
    "my_users[-2] = 'Keri'\n",
    "\n",
    "print('This is how the new list looks like {p}'.format(p=my_users))\n"
   ]
  },
  {
   "cell_type": "markdown",
   "metadata": {},
   "source": [
    "### Adding; Inserting & Removing Elements:  .append(); insert(); \n",
    "* One can add elements to the end of a list \n",
    "* Or insert them wherever you list in the list using the **.append() function**"
   ]
  },
  {
   "cell_type": "code",
   "execution_count": null,
   "metadata": {},
   "outputs": [],
   "source": [
    "#adding element to a list\n",
    "my_users.append('shiku')\n",
    "print ('The new list with new element added {p}'.format(p=my_users))"
   ]
  },
  {
   "cell_type": "code",
   "execution_count": null,
   "metadata": {},
   "outputs": [],
   "source": [
    "#lets start with an empty list\n",
    "users = []\n",
    "users.append('kyle')\n",
    "users.append ('joey')\n",
    "users.append('olu')\n",
    "\n",
    "#insert elements in a particular position\n",
    "users.insert(0, 'Esi')\n",
    "users.insert(-1, 'Henry')\n",
    "\n",
    "users"
   ]
  },
  {
   "cell_type": "markdown",
   "metadata": {},
   "source": [
    "### Removing elements: remove() functions\n",
    "\n",
    "* Remove elements by position in a list\n",
    "* Remove by value of the item: *if you remove element by value python removes ony the first item that has that value*"
   ]
  },
  {
   "cell_type": "code",
   "execution_count": null,
   "metadata": {},
   "outputs": [],
   "source": [
    "#delete element by its position\n",
    "#del users [-1]\n",
    "\n",
    "#remove an item by value\n",
    "#users.remove('Esi')\n",
    "\n",
    "print (\"This is new list after removing elements {p}\".format(p=users))"
   ]
  },
  {
   "cell_type": "markdown",
   "metadata": {},
   "source": [
    "### Popping Elements\n",
    "* You can pop and element that you want to remove from the list\n",
    "* popping a list takes an item off the top of the stack\n",
    "* By default pop()returns the last element in the list\n",
    "* You can also pop elements from any position"
   ]
  },
  {
   "cell_type": "code",
   "execution_count": null,
   "metadata": {},
   "outputs": [],
   "source": [
    "#pop the last item from a list\n",
    "most_recent_user = users.pop()\n",
    "print (most_recent_user)\n",
    "\n",
    "#pop the first item in a list\n",
    "first_user = users.pop(0)\n",
    "print(first_user)\n",
    "\n",
    "print(users)"
   ]
  },
  {
   "cell_type": "markdown",
   "metadata": {},
   "source": [
    "### Sorting a list; sort()\n",
    "* sort method changes the order of the list permanently\n",
    "* the sorted() function return a copy of the list, leaving the original unchanged\n",
    "* a list can be sorted in alphabetical order\n",
    "* a list can be reversed to its original orfer\n",
    "* lower case and upper case letter may affect the sort order"
   ]
  },
  {
   "cell_type": "code",
   "execution_count": null,
   "metadata": {},
   "outputs": [],
   "source": [
    "#sorting a list permaently\n",
    "users.sort()\n",
    "print (sorted(users))\n",
    "\n",
    " #sorting a list permanently ina reverse alphabetical order\n",
    "#users.sort(reverse =True)\n",
    "#print (sorted(users, reverse =True))\n",
    "\n",
    "#Reversing the order of a list\n",
    "users.reverse()\n",
    "\n"
   ]
  },
  {
   "cell_type": "markdown",
   "metadata": {},
   "source": [
    "### Looping through a list\n",
    "* lists may contain millions of items\n",
    "* loops provide an efficient way to loop through all the items in a list\n",
    "* When you set up a loop, python pulls each item from the lost one at a time and stores it ina temp variable which you provide a name for\n",
    "* name should be singular version of the list name\n",
    "* indented block makes up the body,\n",
    "* Any lines not indented runs after loop is completed"
   ]
  },
  {
   "cell_type": "code",
   "execution_count": null,
   "metadata": {},
   "outputs": [],
   "source": [
    "#printing all items in a list: \n",
    "for user in users:\n",
    "    print(user)"
   ]
  },
  {
   "cell_type": "code",
   "execution_count": null,
   "metadata": {},
   "outputs": [],
   "source": [
    "#printing a message for each item, and a separate message afterwards\n",
    "for user in users:\n",
    "    print (\"Welcome, \" + user + \" !\" )\n",
    "    "
   ]
  },
  {
   "cell_type": "markdown",
   "metadata": {},
   "source": [
    "### The range() function\n",
    "* use range() function to work with a set of numbers\n",
    "* range () starts at zero by default, stops at one number below the number passed to it.\n",
    "* list() function can be used to generate a large list of numbers\n",
    "* "
   ]
  },
  {
   "cell_type": "code",
   "execution_count": null,
   "metadata": {},
   "outputs": [],
   "source": [
    "# print numbers between 0 - 1000 \n",
    "#for number in range(0, 1001): \n",
    "    #print(number)"
   ]
  },
  {
   "cell_type": "code",
   "execution_count": null,
   "metadata": {},
   "outputs": [],
   "source": [
    "#print numbers between 1  to 1000\n",
    "#for number in range(1, 1001):\n",
    "   # print(number)"
   ]
  },
  {
   "cell_type": "code",
   "execution_count": null,
   "metadata": {
    "collapsed": true
   },
   "outputs": [],
   "source": [
    "#making a list of numbers from 1 to a million\n",
    "numbers = list(range(1, 1000001))"
   ]
  },
  {
   "cell_type": "markdown",
   "metadata": {},
   "source": [
    "### Slicing a list\n",
    "* You can work with any elements from list\n",
    "* portion is list is called a slice\n",
    "* To slice a list, start with the index first column you want, add a colon, then the index AFTER the last time you want\n",
    " > index of first item : index after the last item you want\n",
    "* leave first index to start at the begining of the list and leave off the last index to slice through the end of the list\n",
    "\n",
    "\n"
   ]
  },
  {
   "cell_type": "code",
   "execution_count": 1,
   "metadata": {},
   "outputs": [
    {
     "name": "stdout",
     "output_type": "stream",
     "text": [
      "['bai', 'nutribab', 'kombucha']\n",
      "['nutribab', 'kombucha', 'hint']\n",
      "['kombucha', 'hint', 'chai']\n"
     ]
    }
   ],
   "source": [
    "beverages = ['bai', 'nutribab', 'kombucha', 'hint', 'chai']\n",
    "\n",
    "# getting the first three\n",
    "first_three_beverages = beverages[:3]\n",
    "print (first_three_beverages)\n",
    "\n",
    "#getting the middle three\n",
    "mid_three = beverages[1:4]\n",
    "print(mid_three)\n",
    "\n",
    "#getting the last three\n",
    "last_three = beverages[-3:]\n",
    "print(last_three)\n"
   ]
  },
  {
   "cell_type": "markdown",
   "metadata": {},
   "source": [
    "### Copying a list\n",
    "* copy a list by making a slie that starts with the first item and ends at the last item\n",
    "* making acopy of your list is important if you want to make changes and leave original intact"
   ]
  },
  {
   "cell_type": "code",
   "execution_count": null,
   "metadata": {},
   "outputs": [],
   "source": [
    "copy_of_beverages = beverages[:]\n",
    "print (beverages)"
   ]
  },
  {
   "cell_type": "markdown",
   "metadata": {},
   "source": [
    "### List comprehension\n",
    "* List comprehensions provide a concise way to create lists.\n",
    "* You can use loops to generate a list based on a range of numbers or on another list\n",
    "* To write a comprehension\n",
    "    * define an expresion of the values you want to store in a list\n",
    "    * Then write a for loop to generate input values needed to make the list"
   ]
  },
  {
   "cell_type": "code",
   "execution_count": null,
   "metadata": {
    "collapsed": true
   },
   "outputs": [],
   "source": [
    "#Using loop to generate a list of square\n",
    "squares =[]\n",
    "for x in range(1,11):\n",
    "    square = x**2\n",
    "    squares.append(square)"
   ]
  },
  {
   "cell_type": "code",
   "execution_count": null,
   "metadata": {},
   "outputs": [],
   "source": [
    "#Using comprehension list to generate a list of squres\n",
    "squares = [x**2 for x in range(1,11)]\n",
    "print(squares)"
   ]
  },
  {
   "cell_type": "code",
   "execution_count": null,
   "metadata": {},
   "outputs": [],
   "source": [
    "# using loop to convert list of names to upper case\n",
    "Upper_names =[]\n",
    "for beverage in beverages:\n",
    "    upper_name = beverage.upper()\n",
    "    Upper_names.append(upper_name)\n",
    "print(Upper_names)    \n",
    "    "
   ]
  },
  {
   "cell_type": "code",
   "execution_count": null,
   "metadata": {},
   "outputs": [],
   "source": [
    "#using list comprehension.\n",
    "Upper_names2 = [beverage.upper() for beverage in beverages]\n",
    "print(Upper_names2)"
   ]
  },
  {
   "cell_type": "markdown",
   "metadata": {
    "collapsed": true
   },
   "source": [
    "# another example of list comprehesion\n",
    "You are given two integers x and y . \n",
    "- You need to find out the ordered pairs ( i , j ) ,\n",
    "- such that ( i + j ) is not equal to n and \n",
    "- print them in lexicographic order.( 0 <= i <= x ) and ( 0 <= j <= y) "
   ]
  },
  {
   "cell_type": "raw",
   "metadata": {},
   "source": [
    "#This is the code if we dont use list comprehensions in Python.\n",
    "if __name__ == '__main__':\n",
    "    x = int ( raw_input())\n",
    "    y = int ( raw_input())\n",
    "    n = int ( raw_input())\n",
    "\n",
    "ar = []\n",
    "p = 0\n",
    "for i in range ( x + 1 ) :\n",
    "    for j in range( y + 1):\n",
    "        if i+j != n:\n",
    "            ar.append([])\n",
    "            ar[p] = [ i , j ]\n",
    "            p+=1\n",
    "print (ar)    \n",
    "\n",
    "#This is the code using list comprehensions in Python.\n",
    "x = int ( raw_input())\n",
    "y = int ( raw_input())\n",
    "n = int ( raw_input())\n",
    "print [ [ i, j] for i in range( x + 1) for j in range( y + 1) if ( ( i + j ) != n )]"
   ]
  },
  {
   "cell_type": "code",
   "execution_count": null,
   "metadata": {
    "collapsed": true
   },
   "outputs": [],
   "source": [
    "#Tuples\n",
    "* Tuples are like lists, excpet you cannot changes the values in a tuples once defines\n",
    "* Good for stroring information that should not be changes\n",
    "* defined by parenthesis instead of sqaure brackets\n",
    "* You can overwrite an entire tupple but cannot change the individual elements"
   ]
  },
  {
   "cell_type": "code",
   "execution_count": null,
   "metadata": {},
   "outputs": [],
   "source": [
    "#define a tuple\n",
    "dimensions = (800, 600)\n",
    "\n",
    "#looping through a tuple\n",
    "for dimension in dimensions:\n",
    "    print(dimension)\n",
    "\n",
    "# Overwriting a tuples\n",
    "dimensions = (800, 600)\n",
    "print(dimensions)\n",
    "\n",
    "dimensions = (1200, 900)\n",
    "print (dimensions)"
   ]
  },
  {
   "cell_type": "code",
   "execution_count": null,
   "metadata": {
    "collapsed": true
   },
   "outputs": [],
   "source": [
    "#Visualizing code"
   ]
  },
  {
   "cell_type": "code",
   "execution_count": null,
   "metadata": {},
   "outputs": [],
   "source": [
    "# Simple Statistics\n",
    "#find the minimum value in a list\n",
    "ages = [43, 54, 22, 12, 45, 20, 15, 37, 44, 74]\n",
    "youngest = min(ages)\n",
    "print (youngest)\n",
    "\n",
    "# find the max value in a list\n",
    "oldest = max(ages)\n",
    "print (oldest)\n",
    "\n",
    "# find the sum of all ages\n",
    "total_years = sum(ages)\n",
    "print (total_years)"
   ]
  },
  {
   "cell_type": "markdown",
   "metadata": {},
   "source": [
    "### Using input() function"
   ]
  },
  {
   "cell_type": "raw",
   "metadata": {
    "collapsed": true
   },
   "source": [
    "ar = []\n",
    "n = int(input())\n",
    "for i in range (0, n):\n",
    "    tmp_str = input()\n",
    "    tmp_str_ar = tmp_str.strip().split(\" \")\n",
    "    cmd = tmp_str_ar [0]\n",
    "    \n",
    "if (cmd == \"print\"):\n",
    "    print(ar)\n",
    "\n",
    "elif (cmd == \"sort\"):\n",
    "    ar.sort()   \n",
    "    "
   ]
  },
  {
   "cell_type": "markdown",
   "metadata": {},
   "source": [
    "# Example Problems using List\n",
    "\n",
    "### Problem 1 [Find Runner up Score](https://www.hackerrank.com/challenges/find-second-maximum-number-in-a-list/problem)\n",
    "Given the participants' score sheet for your University Sports Day, you are required to find the runner-up score. You are given  scores. Store them in a list and find the score of the runner-up.\n",
    "\n",
    "**Input Format**\n",
    "\n",
    "The first line contains . The second line contains an array   of  integers each separated by a space.\n",
    "\n",
    "**Constraints**\n",
    "Constraints\n",
    "\n",
    "* 2<= n <= 10\n",
    "* -100 <= A[i] <= 100\n",
    "\n",
    "**Output Format**\n",
    "\n",
    "Print the runner-up score\n",
    "\n"
   ]
  },
  {
   "cell_type": "markdown",
   "metadata": {},
   "source": [
    "### Problem 2: [Lists](https://www.hackerrank.com/challenges/python-lists/problem)\n",
    "\n",
    "Consider a list (list = []). You can perform the following commands:\n",
    "\n",
    "1.  insert i e: Insert integer  at position .\n",
    "2. print: Print the list.\n",
    "3. remove e: Delete the first occurrence of integer .\n",
    "4. append e: Insert integer  at the end of the list.\n",
    "5. sort: Sort the list.\n",
    "6. pop: Pop the last element from the list.\n",
    "7. reverse: Reverse the list.\n",
    "Initialize your list and read in the value of  followed by  lines of commands where each command will be of the types listed above. Iterate through each command in order and perform the corresponding operation on your list.\n",
    "\n",
    "**Input Format**\n",
    "\n",
    "The first line contains an integer, , denoting the number of commands. \n",
    "Each line  of the  subsequent lines contains one of the commands described above.\n",
    "\n",
    "**Constraints**\n",
    "\n",
    "The elements added to the list must be integers.\n",
    "Output Format\n",
    "\n",
    "For each command of type print, print the list on a new line.\n",
    "\n",
    "**Sample Input**\n",
    "- 12\n",
    "- insert 0 5\n",
    "- insert 1 10\n",
    "- insert 0 6\n",
    "- print\n",
    "- remove 6\n",
    "- append 9\n",
    "- append 1\n",
    "- sort\n",
    "- print\n",
    "- pop\n",
    "- reverse\n",
    "- print\n",
    "\n",
    "**Sample Output**\n",
    "- [6, 5, 10]\n",
    "- [1, 5, 9, 10]\n",
    "- [9, 5, 1]"
   ]
  },
  {
   "cell_type": "markdown",
   "metadata": {},
   "source": [
    "### Solution 1"
   ]
  },
  {
   "cell_type": "raw",
   "metadata": {},
   "source": [
    "# input \"12\" first, resulting it to loop 12 times.\n",
    "l=[]\n",
    "for x in range(int(input())):\n",
    "    s = input(\"\").split()\n",
    "    if hasattr(l,s[0]):\n",
    "        getattr(l,s[0]) (*map(int,s[1:]))\n",
    "    else:\n",
    "        print (l)"
   ]
  },
  {
   "cell_type": "markdown",
   "metadata": {},
   "source": [
    "### Solution 2"
   ]
  },
  {
   "cell_type": "raw",
   "metadata": {},
   "source": [
    "if __name__ == '__main__':\n",
    "    N = int(input())\n",
    "my_list=[]\n",
    "    \n",
    "for x in range(N):\n",
    "    args= input().strip().split()\n",
    "    args[1:]=map(int,args[1:])\n",
    "    try:\n",
    "        getattr(my_list,args[0])(*args[1:])\n",
    "    except AttributeError:\n",
    "            print (my_list)"
   ]
  },
  {
   "cell_type": "markdown",
   "metadata": {},
   "source": [
    "## Problem 3: [List Comprehensions](https://www.hackerrank.com/challenges/list-comprehensions/problem) \n",
    "\n",
    "Let's learn about list comprehensions! You are given three integers  and  representing the dimensions of a cuboid along with an integer . You have to print a list of all possible coordinates given by  on a 3D grid where the sum of  is not equal to . Here, "
   ]
  },
  {
   "cell_type": "raw",
   "metadata": {},
   "source": [
    "#x, y, z, n = int(input()), int(input()), int(input()), int(input())\n",
    "x, y, z, n = (int(input()) for _ in range(4))\n",
    "print ([[i,j,k] for i in range(0,x+1) \n",
    "                for j in range(0,y+1) \n",
    "                for k in range(0,z+1) if i + j + k!= n ])"
   ]
  },
  {
   "cell_type": "markdown",
   "metadata": {
    "collapsed": true
   },
   "source": [
    "## References\n",
    "* Python.org\n",
    "* Udemy: Complete python Bootcamp: From zero to hero\n",
    "* pythontutor.com: great for seeing how python tracks information\n",
    "* Problems from hackerank.com\n"
   ]
  }
 ],
 "metadata": {
  "anaconda-cloud": {},
  "kernelspec": {
   "display_name": "Python 3",
   "language": "python",
   "name": "python3"
  },
  "language_info": {
   "codemirror_mode": {
    "name": "ipython",
    "version": 3
   },
   "file_extension": ".py",
   "mimetype": "text/x-python",
   "name": "python",
   "nbconvert_exporter": "python",
   "pygments_lexer": "ipython3",
   "version": "3.6.1"
  }
 },
 "nbformat": 4,
 "nbformat_minor": 1
}
