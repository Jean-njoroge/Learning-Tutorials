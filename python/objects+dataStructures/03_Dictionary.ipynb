{
 "cells": [
  {
   "cell_type": "markdown",
   "metadata": {},
   "source": [
    "### What are Dictionaries\n",
    "- Python dictionaries make it possible to connect pieces of realtion information\n",
    "- each piece of information is stored as a key-value pair\n",
    "- When user provides a key, python returns a value associated with the key\n",
    "- It is posible to loop through all key-valu pairs, all the keys of all the values\n",
    "\n",
    "#### Defining a dictionary\n",
    "- use curly brackets to define dictionary\n",
    "- use colons to connect keys and values\n",
    "- use commas to separate individual key-value pairs"
   ]
  },
  {
   "cell_type": "code",
   "execution_count": null,
   "metadata": {
    "collapsed": true
   },
   "outputs": [],
   "source": [
    "#making a dictionary\n",
    "aliens = {'color': 'green', \"points\": '5'}\n",
    "aliens"
   ]
  },
  {
   "cell_type": "code",
   "execution_count": null,
   "metadata": {
    "collapsed": true
   },
   "outputs": [],
   "source": [
    "#getting value associated with the key\n",
    "print(aliens['color'])\n",
    "print (aliens['points'])\n",
    "\n",
    "#second option to get value using get() function \n",
    "alien_color = aliens.get('color')\n",
    "alien_points = aliens.get('points')\n",
    "\n",
    "print(alien_color)\n",
    "print(alien_points)"
   ]
  },
  {
   "cell_type": "markdown",
   "metadata": {},
   "source": [
    "### Adding key values\n",
    "- you can store as many key values as you want in a dictionary\n",
    "- to add a key-value pair to an exisiting dictionary, give name of dictionary and new key in sq brackets\n",
    "- set it equal to the new value\n",
    "- allows to start with empty dictionary and set it equal to new value\n",
    "- add key-valu pairs as they become relevant"
   ]
  },
  {
   "cell_type": "code",
   "execution_count": null,
   "metadata": {
    "collapsed": true
   },
   "outputs": [],
   "source": [
    "#adding a key value pair\n",
    "aliens['x']= 0\n",
    "aliens['y']= 25\n",
    "aliens['speed']= 1.5\n",
    "aliens"
   ]
  },
  {
   "cell_type": "code",
   "execution_count": null,
   "metadata": {
    "collapsed": true
   },
   "outputs": [],
   "source": [
    "# adding an empty dictionary\n",
    "aliens = {}\n",
    "aliens['color']= 'green'\n",
    "aliens['points']= 5\n",
    "aliens"
   ]
  },
  {
   "cell_type": "markdown",
   "metadata": {},
   "source": [
    "### Removing key-value pairs\n",
    "- you can removes and key-value pair you want from a dictionary\n",
    "- use del keyword and dictionay name\n",
    "- followed by the key in square brackets"
   ]
  },
  {
   "cell_type": "code",
   "execution_count": null,
   "metadata": {
    "collapsed": true
   },
   "outputs": [],
   "source": [
    "#deleting key-value pairs\n",
    "del aliens['points']\n",
    "aliens"
   ]
  },
  {
   "cell_type": "markdown",
   "metadata": {},
   "source": [
    "### Nesting: A list of dictionaries\n",
    "- Sometimes it is useful to store a set of dictionary in a list\n",
    "- Also referred to as **nesting**"
   ]
  },
  {
   "cell_type": "code",
   "execution_count": null,
   "metadata": {
    "collapsed": true
   },
   "outputs": [],
   "source": [
    "#start with an empty list.\n",
    "users = []\n",
    "\n",
    "#Make a new user, and add them to the list,\n",
    "new_user = {'lastName': 'femi', 'firstName': 'Julie',\n",
    "            'username': 'jfemie' }\n",
    "new_user\n",
    "\n",
    "users.append(new_user)\n",
    "\n",
    "#make another new user and append as well \n",
    "new_user = {'lastName': 'Esi', 'firstName': 'Olivia',\n",
    "            'username': 'EsiO' }\n",
    "\n",
    "users.append(new_user)\n",
    "\n",
    "users"
   ]
  },
  {
   "cell_type": "code",
   "execution_count": null,
   "metadata": {
    "collapsed": true
   },
   "outputs": [],
   "source": [
    "#show information about each user\n",
    "for users_dict in users:\n",
    "    for k, v in users_dict.items():\n",
    "        print(k + \": \" + v)"
   ]
  },
  {
   "cell_type": "code",
   "execution_count": null,
   "metadata": {
    "collapsed": true
   },
   "outputs": [],
   "source": [
    "#defing a list of dictionaries directluu without using append\n",
    "#define a list of users where each user is represented by a dic\n",
    "\n",
    "user =[{'firstName': 'Julie', \n",
    "        'lastName': 'femi', \n",
    "        'username': 'jfemie'\n",
    "       },\n",
    "       {'firstName': 'Olive', \n",
    "        'lastName': 'Esi',\n",
    "        'username': 'OsiO'}]\n",
    "\n",
    "#show all information about each user for user_dict in users:\n",
    "for user_dict in user:\n",
    "    for k, v in user_dict.items():\n",
    "        print(k + \": \" + v)\n",
    "    print ('\\n')"
   ]
  },
  {
   "cell_type": "code",
   "execution_count": null,
   "metadata": {
    "collapsed": true
   },
   "outputs": [],
   "source": [
    "#storing list in a dictionary\n",
    "#store multiple languages for each person\n",
    "\n",
    "fav_language = {\n",
    "    'jen':['python','Ruby'],\n",
    "    'sara': ['c'],\n",
    "    'edward': ['R', 'Python', 'C'],\n",
    "    'phil': ['go', 'Ruby']\n",
    "}\n",
    "\n",
    "#show all responses for each person\n",
    "for name, progs in fav_language.items():\n",
    "    print(name + ': ')\n",
    "    for prog in progs:\n",
    "        print (\"_\" + prog)"
   ]
  },
  {
   "cell_type": "code",
   "execution_count": null,
   "metadata": {
    "collapsed": true
   },
   "outputs": [],
   "source": [
    "#store a dictionary insider another dictionary\n",
    "users = {'aeinstein':{'first': 'albert',\n",
    "                   'last': 'einstein',\n",
    "                   'location': 'princeton',},\n",
    "        'mcurie': {'first': 'marie',\n",
    "                   'last': 'curie',\n",
    "                   'location': 'paris',\n",
    "                  },\n",
    "            \n",
    "        }\n",
    "\n",
    "for username, user_dict in users.items():\n",
    "    print ('\\nUsername: ' + username)\n",
    "    full_name = user_dict['first'] + \" \"\n",
    "    full_name = user_dict['last'] \n",
    "    location = user_dict['location']\n",
    "    \n",
    "    print(\"\\tFull_name: \" + full_name.title())\n",
    "    print(\"\\tlocation: \" + location.title())\n",
    "    "
   ]
  },
  {
   "cell_type": "markdown",
   "metadata": {},
   "source": [
    "### Using an OrderedDict\n",
    "- standard python dictionaries fo not keep track of the order in which leys and values are added\n",
    "- they preserve the association between each key and its value\n",
    "-to preserve the order in which keys and values are addes ise **OrderedDict**"
   ]
  },
  {
   "cell_type": "code",
   "execution_count": 7,
   "metadata": {},
   "outputs": [
    {
     "name": "stdout",
     "output_type": "stream",
     "text": [
      "jen: \n",
      "_python\n",
      "_Ruby\n",
      "sara: \n",
      "_c\n",
      "edward: \n",
      "_R\n",
      "_Python\n",
      "_C\n",
      "phil: \n",
      "_go\n",
      "_Ruby\n"
     ]
    }
   ],
   "source": [
    "### Preserving the order of keys and values\n",
    "from collections import OrderedDict\n",
    "#store each persons languages, keeping track of who responded first\n",
    "\n",
    "fav_languages = OrderedDict()\n",
    "\n",
    "fav_languages['jen'] = ['python','Ruby']\n",
    "fav_languages['sara'] = ['c']\n",
    "fav_languages['edward'] = ['R', 'Python', 'C']\n",
    "fav_languages['phil'] = ['go', 'Ruby']\n",
    "\n",
    "\n",
    "#Display results in the same way they were entered\n",
    "#show all responses for each person\n",
    "for name, progs in fav_languages.items():\n",
    "    print(name + ': ')\n",
    "    for prog in progs:\n",
    "        print (\"_\" + prog)"
   ]
  },
  {
   "cell_type": "markdown",
   "metadata": {},
   "source": [
    "#### Generating a million dictionaries\n",
    "- You can use loop to generate a large number of dictionaries effeciently\n",
    "- if all the dictionaries atart out with similar data"
   ]
  },
  {
   "cell_type": "code",
   "execution_count": 12,
   "metadata": {},
   "outputs": [
    {
     "name": "stdout",
     "output_type": "stream",
     "text": [
      "The Number of aliens created is 1000000:\n"
     ]
    }
   ],
   "source": [
    "aliens = []\n",
    "\n",
    "# make a million green aliens, worth 5 points\n",
    "# each. Have them all start in one row.\n",
    "for alien_num in range(1000000):\n",
    "    new_alien= {}\n",
    "    new_alien['color'] = 'green'\n",
    "    new_alien['points'] = 5\n",
    "    new_alien['x'] = 20 * alien_num\n",
    "    new_alien['y'] = 0\n",
    "    aliens.append(new_alien)\n",
    "#Prove the list contains a million aliens.\n",
    "num_aliens = len(aliens)\n",
    "\n",
    "print('The Number of aliens created is {p}:'.format(p=num_aliens))\n",
    "\n",
    "    "
   ]
  },
  {
   "cell_type": "markdown",
   "metadata": {
    "collapsed": true
   },
   "source": [
    "## Dealing with categorical features that are in dictionary"
   ]
  },
  {
   "cell_type": "code",
   "execution_count": 2,
   "metadata": {
    "collapsed": true
   },
   "outputs": [],
   "source": [
    "data = [\n",
    "    {'price': 850000, 'rooms': 4, 'neighborhood': 'Queen Anne'},\n",
    "    {'price': 700000, 'rooms': 3, 'neighborhood': 'Fremont'},\n",
    "    {'price': 650000, 'rooms': 3, 'neighborhood': 'Wallingford'},\n",
    "    {'price': 600000, 'rooms': 2, 'neighborhood': 'Fremont'}\n",
    "]"
   ]
  },
  {
   "cell_type": "code",
   "execution_count": 3,
   "metadata": {
    "collapsed": true
   },
   "outputs": [],
   "source": [
    "'''You might be tempted to encode this data with a \n",
    "straightforward numerical mapping:'''\n",
    "{'Queen Anne': 1, 'Fremont': 2, 'Wallingford': 3};"
   ]
  },
  {
   "cell_type": "markdown",
   "metadata": {},
   "source": [
    "this is not generally a useful approach in Scikit-Learn: the package's models make the fundamental assumption that numerical features reflect algebraic quantities. Thus such a mapping would imply, for example, that Queen Anne < Fremont < Wallingford, or even that Wallingford - Queen Anne = Fremont, which (niche demographic jokes aside) does not make much sense.\n",
    "\n",
    "In this case, one proven technique is to use one-hot encoding, which effectively creates extra columns indicating the presence or absence of a category with a value of 1 or 0, respectively. When your data comes as a list of dictionaries, Scikit-Learn's **DictVectorizer** will do this for you:"
   ]
  },
  {
   "cell_type": "code",
   "execution_count": 4,
   "metadata": {},
   "outputs": [
    {
     "data": {
      "text/plain": [
       "array([[     0,      1,      0, 850000,      4],\n",
       "       [     1,      0,      0, 700000,      3],\n",
       "       [     0,      0,      1, 650000,      3],\n",
       "       [     1,      0,      0, 600000,      2]], dtype=int64)"
      ]
     },
     "execution_count": 4,
     "metadata": {},
     "output_type": "execute_result"
    }
   ],
   "source": [
    "from sklearn.feature_extraction import DictVectorizer\n",
    "vec = DictVectorizer(sparse=False, dtype=int)\n",
    "vec.fit_transform(data)\n"
   ]
  },
  {
   "cell_type": "markdown",
   "metadata": {},
   "source": [
    "the 'neighborhood' column has been expanded into three separate columns, representing the three neighborhood labels, and that each row has a 1 in the column associated with its neighborhood. With these categorical features thus encoded, you can proceed as normal with fitting a Scikit-Learn model.\n",
    "\n",
    "To see the meaning of each column, you can inspect the feature names:"
   ]
  },
  {
   "cell_type": "code",
   "execution_count": 7,
   "metadata": {},
   "outputs": [
    {
     "data": {
      "text/plain": [
       "['neighborhood=Fremont',\n",
       " 'neighborhood=Queen Anne',\n",
       " 'neighborhood=Wallingford',\n",
       " 'price',\n",
       " 'rooms']"
      ]
     },
     "execution_count": 7,
     "metadata": {},
     "output_type": "execute_result"
    }
   ],
   "source": [
    "vec.get_feature_names()"
   ]
  },
  {
   "cell_type": "markdown",
   "metadata": {},
   "source": [
    "There is one clear disadvantage of this approach: if your category has many possible values, this can greatly increase the size of your dataset. However, because the encoded data contains mostly zeros, a sparse output can be a very efficient solution:"
   ]
  },
  {
   "cell_type": "code",
   "execution_count": 8,
   "metadata": {},
   "outputs": [
    {
     "data": {
      "text/plain": [
       "<4x5 sparse matrix of type '<class 'numpy.int64'>'\n",
       "\twith 12 stored elements in Compressed Sparse Row format>"
      ]
     },
     "execution_count": 8,
     "metadata": {},
     "output_type": "execute_result"
    }
   ],
   "source": [
    "vec = DictVectorizer(sparse=True, dtype=int)\n",
    "vec.fit_transform(data)"
   ]
  },
  {
   "cell_type": "markdown",
   "metadata": {},
   "source": [
    "Many (though not yet all) of the Scikit-Learn estimators accept such sparse inputs when fitting and evaluating models. sklearn.preprocessing.OneHotEncoder and sklearn.feature_extraction.FeatureHasher are two additional tools that Scikit-Learn includes to support this type of encoding."
   ]
  },
  {
   "cell_type": "code",
   "execution_count": null,
   "metadata": {
    "collapsed": true
   },
   "outputs": [],
   "source": []
  }
 ],
 "metadata": {
  "kernelspec": {
   "display_name": "Python 3",
   "language": "python",
   "name": "python3"
  },
  "language_info": {
   "codemirror_mode": {
    "name": "ipython",
    "version": 3
   },
   "file_extension": ".py",
   "mimetype": "text/x-python",
   "name": "python",
   "nbconvert_exporter": "python",
   "pygments_lexer": "ipython3",
   "version": "3.6.1"
  }
 },
 "nbformat": 4,
 "nbformat_minor": 2
}
