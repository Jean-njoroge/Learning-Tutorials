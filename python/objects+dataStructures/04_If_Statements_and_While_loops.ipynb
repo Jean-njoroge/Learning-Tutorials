{
 "cells": [
  {
   "cell_type": "markdown",
   "metadata": {},
   "source": [
    "### What are If Statatement and While loops\n",
    "\n",
    "* If statements allow you to examine the current state of a program and respond appropriately to that state\n",
    "* You can write down a simple statement that checks one conditions.\n",
    "* You can also create a series of conditions that lead you the the exact condition you are aiming for.\n",
    "* While loops run as long as certain conditions remain true.\n",
    "\n",
    "#### Conditional test\n",
    "* A conditional test is an expression that can be evaluated whether to be true or false\n",
    "* python uses the values true or false to decided whether the code in an \"if statement\" should be executed"
   ]
  },
  {
   "cell_type": "code",
   "execution_count": 4,
   "metadata": {},
   "outputs": [
    {
     "data": {
      "text/plain": [
       "True"
      ]
     },
     "execution_count": 4,
     "metadata": {},
     "output_type": "execute_result"
    }
   ],
   "source": [
    "##checking for equality\n",
    "'''single equal sign assigns a value to a variable, a double == sign,\n",
    "checks whether two values are equal '''\n",
    "\n",
    "#checking for equality/inequality\n",
    "car = 'bmw' # single equal sign assign a varaiable to a value\n",
    "car == 'bmw'\n",
    "\n"
   ]
  },
  {
   "cell_type": "code",
   "execution_count": 5,
   "metadata": {},
   "outputs": [
    {
     "data": {
      "text/plain": [
       "False"
      ]
     },
     "execution_count": 5,
     "metadata": {},
     "output_type": "execute_result"
    }
   ],
   "source": [
    "#checking for inequality\n",
    "car = 'audi'\n",
    "car == 'bmw'"
   ]
  },
  {
   "cell_type": "code",
   "execution_count": 8,
   "metadata": {},
   "outputs": [
    {
     "data": {
      "text/plain": [
       "True"
      ]
     },
     "execution_count": 8,
     "metadata": {},
     "output_type": "execute_result"
    }
   ],
   "source": [
    "#ignoring case when making a comparison\n",
    "car = 'Audi'\n",
    "car.lower() == 'audi'"
   ]
  },
  {
   "cell_type": "code",
   "execution_count": 12,
   "metadata": {},
   "outputs": [
    {
     "data": {
      "text/plain": [
       "False"
      ]
     },
     "execution_count": 12,
     "metadata": {},
     "output_type": "execute_result"
    }
   ],
   "source": [
    "#example 3 chacking for inequality\n",
    "toppings = 'mushroom'\n",
    "toppings != 'mushroom' # toppings is not mushrooms"
   ]
  },
  {
   "cell_type": "markdown",
   "metadata": {},
   "source": [
    "#### Numerical comparisons\n",
    "* Testing numerical comparison is similar to testing string comparison"
   ]
  },
  {
   "cell_type": "code",
   "execution_count": 16,
   "metadata": {},
   "outputs": [
    {
     "data": {
      "text/plain": [
       "True"
      ]
     },
     "execution_count": 16,
     "metadata": {},
     "output_type": "execute_result"
    }
   ],
   "source": [
    "#example 1 checking comparison\n",
    "age = 18\n",
    "age ==18"
   ]
  },
  {
   "cell_type": "code",
   "execution_count": 17,
   "metadata": {},
   "outputs": [
    {
     "data": {
      "text/plain": [
       "True"
      ]
     },
     "execution_count": 17,
     "metadata": {},
     "output_type": "execute_result"
    }
   ],
   "source": [
    "#example 2 checking comparison\n",
    "age = 18\n",
    "age != 16"
   ]
  },
  {
   "cell_type": "code",
   "execution_count": 26,
   "metadata": {},
   "outputs": [
    {
     "data": {
      "text/plain": [
       "False"
      ]
     },
     "execution_count": 26,
     "metadata": {},
     "output_type": "execute_result"
    }
   ],
   "source": [
    "#comparison operators\n",
    "age = 18\n",
    "#age > 21\n",
    "#age < 21\n",
    "#age <= 21\n",
    "age >= 21"
   ]
  },
  {
   "cell_type": "markdown",
   "metadata": {},
   "source": [
    "#### Checking multiple conditions at the same time\n",
    "* You can check multiple conditions at the same time,\n",
    "* The *AND* operator returns True if all conditions listed are true\n",
    "* The *OR*  operator returns True if any condition is true   "
   ]
  },
  {
   "cell_type": "code",
   "execution_count": 32,
   "metadata": {},
   "outputs": [
    {
     "data": {
      "text/plain": [
       "False"
      ]
     },
     "execution_count": 32,
     "metadata": {},
     "output_type": "execute_result"
    }
   ],
   "source": [
    "#using AND to check conditions\n",
    "age_0 = 22\n",
    "age_1 = 18 # can change to see difference\n",
    "\n",
    "age_0 >= 21 and age_1 >=21 # only one condition is true\n",
    "\n"
   ]
  },
  {
   "cell_type": "code",
   "execution_count": 37,
   "metadata": {},
   "outputs": [
    {
     "data": {
      "text/plain": [
       "True"
      ]
     },
     "execution_count": 37,
     "metadata": {},
     "output_type": "execute_result"
    }
   ],
   "source": [
    "#using OR to check conditions\n",
    "age_0 = 22\n",
    "age_1 = 18\n",
    "\n",
    "age_0 >= 21 or age_1 >=21 # if any condition is true returns true"
   ]
  },
  {
   "cell_type": "markdown",
   "metadata": {},
   "source": [
    "#### Boolean values\n",
    "* a boolean value is either true of false\n",
    "* variables with boolean values are often used to keep track of certin conditions within a program"
   ]
  },
  {
   "cell_type": "code",
   "execution_count": 39,
   "metadata": {
    "collapsed": true
   },
   "outputs": [],
   "source": [
    "# simple example\n",
    "game_value = True\n",
    "can_edit = False"
   ]
  },
  {
   "cell_type": "markdown",
   "metadata": {},
   "source": [
    "## If statements\n",
    "* Several kind of if statements exist\n",
    "* Your choice is dependant on the number of conditions one needs to test\n",
    "* Can have as many as elif block of else blocks as possible.\n"
   ]
  },
  {
   "cell_type": "code",
   "execution_count": 45,
   "metadata": {},
   "outputs": [
    {
     "name": "stdout",
     "output_type": "stream",
     "text": [
      "You are old enough to vote\n"
     ]
    }
   ],
   "source": [
    "#simple if statement\n",
    "age = 19\n",
    "\n",
    "if age >= 19:\n",
    "    print ('You are old enough to vote')"
   ]
  },
  {
   "cell_type": "code",
   "execution_count": 51,
   "metadata": {},
   "outputs": [
    {
     "name": "stdout",
     "output_type": "stream",
     "text": [
      "wait a lil, you will soon be able to vote\n"
     ]
    }
   ],
   "source": [
    "#if else statement\n",
    "age =17\n",
    "\n",
    "if age >= 19:\n",
    "    print ('You are old enough to vote')\n",
    "else:\n",
    "    age <= 19\n",
    "print ('wait a lil, you will soon be able to vote')"
   ]
  },
  {
   "cell_type": "code",
   "execution_count": 54,
   "metadata": {},
   "outputs": [
    {
     "name": "stdout",
     "output_type": "stream",
     "text": [
      "You are old enough to vote\n"
     ]
    }
   ],
   "source": [
    "#if else statement\n",
    "age =21\n",
    "\n",
    "if age >= 19:\n",
    "    print ('You are old enough to vote')\n",
    "else:\n",
    "    print ('wait a lil, you will soon be able to vote')"
   ]
  },
  {
   "cell_type": "code",
   "execution_count": 60,
   "metadata": {},
   "outputs": [
    {
     "name": "stdout",
     "output_type": "stream",
     "text": [
      "Your cost is $15.\n"
     ]
    }
   ],
   "source": [
    "#if-elif-else chain\n",
    "age = 22\n",
    "\n",
    "if age < 4:\n",
    "    price = 0\n",
    "elif age < 18:\n",
    "    price = 5\n",
    "else:\n",
    "    price = 15\n",
    "print(\"Your cost is $\" + str(price) + \".\")"
   ]
  },
  {
   "cell_type": "markdown",
   "metadata": {},
   "source": [
    "### conditional test with list\n",
    "* you can test whether a certain values is in a list\n",
    "* You can test whether a list is empty before trying to loop"
   ]
  },
  {
   "cell_type": "code",
   "execution_count": 1,
   "metadata": {},
   "outputs": [],
   "source": [
    "#Test if a value is in a list\n",
    "players = ['al', 'keri', 'beau', 'jess']\n",
    "\n",
    "#'al' in players"
   ]
  },
  {
   "cell_type": "code",
   "execution_count": 2,
   "metadata": {},
   "outputs": [
    {
     "data": {
      "text/plain": [
       "False"
      ]
     },
     "execution_count": 2,
     "metadata": {},
     "output_type": "execute_result"
    }
   ],
   "source": [
    "'jun3' in players"
   ]
  },
  {
   "cell_type": "code",
   "execution_count": 7,
   "metadata": {},
   "outputs": [
    {
     "name": "stdout",
     "output_type": "stream",
     "text": [
      "You can play\n"
     ]
    }
   ],
   "source": [
    "#Testing if a value is not in a list\n",
    "banned_users = ['ann', 'chad', 'lee']\n",
    "user ='jean'\n",
    "\n",
    "if user not in banned_users:\n",
    "    print('You can play')"
   ]
  },
  {
   "cell_type": "code",
   "execution_count": 8,
   "metadata": {},
   "outputs": [
    {
     "name": "stdout",
     "output_type": "stream",
     "text": [
      "Player: Al\n",
      "Player: Keri\n",
      "Player: Beau\n",
      "Player: Jess\n"
     ]
    }
   ],
   "source": [
    "#checking if list is empty\n",
    "player =[]\n",
    "if players:\n",
    "    for player in players:\n",
    "        print (\"Player: \" + player.title())\n",
    "else:\n",
    "    print(\"we have not players\")\n",
    "        "
   ]
  },
  {
   "cell_type": "markdown",
   "metadata": {},
   "source": [
    "### Accepting input\n",
    "* allow users to enter input using input() "
   ]
  },
  {
   "cell_type": "code",
   "execution_count": 25,
   "metadata": {},
   "outputs": [
    {
     "name": "stdout",
     "output_type": "stream",
     "text": [
      "what is your name: jean\n",
      "Good morning jean.\n"
     ]
    }
   ],
   "source": [
    "name = input('what is your name: ')\n",
    "print(\"Good morning \" + name + \".\")"
   ]
  },
  {
   "cell_type": "code",
   "execution_count": 7,
   "metadata": {},
   "outputs": [
    {
     "name": "stdout",
     "output_type": "stream",
     "text": [
      "How old are you: 43\n",
      "\n",
      "You can vote!\n"
     ]
    }
   ],
   "source": [
    "# accepting numerical input\n",
    "age = input('How old are you: ')\n",
    "age = int(age)\n",
    "\n",
    "if age > 18:\n",
    "    print ('\\nYou can vote!')\n",
    "else:\n",
    "    print ('\\nYou cannot vote yet')"
   ]
  },
  {
   "cell_type": "markdown",
   "metadata": {
    "collapsed": true
   },
   "source": [
    "## While loops\n",
    "A while loop repeats a block of code as long as the condition is true"
   ]
  },
  {
   "cell_type": "code",
   "execution_count": 17,
   "metadata": {},
   "outputs": [
    {
     "name": "stdout",
     "output_type": "stream",
     "text": [
      "1\n",
      "2\n",
      "3\n",
      "4\n",
      "5\n"
     ]
    }
   ],
   "source": [
    "current_number = 1\n",
    "\n",
    "while current_number <= 5:\n",
    "    print (current_number)\n",
    "    current_number += 1\n",
    "    \n",
    "    "
   ]
  },
  {
   "cell_type": "code",
   "execution_count": 21,
   "metadata": {},
   "outputs": [
    {
     "name": "stdout",
     "output_type": "stream",
     "text": [
      "\n",
      "Tell me something, and I'll repeat it back to you.\n",
      "Enter 'quit' to end the program. quit\n"
     ]
    }
   ],
   "source": [
    "### Letting the user know when to quit\n",
    "prompt = \"\\nTell me something, and I'll \"\n",
    "prompt += \"repeat it back to you.\"\n",
    "prompt += \"\\nEnter 'quit' to end the program. \"\n",
    "\n",
    "message = \"\"\n",
    "while message != 'quit':\n",
    "    message = input(prompt)\n",
    "    if message != 'quit':\n",
    "        print(message)"
   ]
  },
  {
   "cell_type": "code",
   "execution_count": 26,
   "metadata": {},
   "outputs": [
    {
     "name": "stdout",
     "output_type": "stream",
     "text": [
      "\n",
      "Tell me something, and I'll quit\n"
     ]
    }
   ],
   "source": [
    "## Using Flag\n",
    "\n",
    "active = True\n",
    "while active:\n",
    "    message = input(prompt)\n",
    "    if message == 'quit':\n",
    "        active = False\n",
    "    else:\n",
    "        print(message)"
   ]
  },
  {
   "cell_type": "markdown",
   "metadata": {},
   "source": [
    "You can use the break statement and the continue statement with any of Python's loops. For example you can use break to quit a for loop that's working through a list or a dictionary. You can use continue to skip over certain items when looping through a list or dictionary as well."
   ]
  },
  {
   "cell_type": "code",
   "execution_count": 29,
   "metadata": {},
   "outputs": [
    {
     "name": "stdout",
     "output_type": "stream",
     "text": [
      "\n",
      "What cities have you visited?\n",
      "Enter 'quit' when you're done. nyc\n",
      "I've been to nyc!\n",
      "\n",
      "What cities have you visited?\n",
      "Enter 'quit' when you're done. quit\n"
     ]
    }
   ],
   "source": [
    "##Using break to exit a loop\n",
    "prompt = \"\\nWhat cities have you visited?\"\n",
    "prompt += \"\\nEnter 'quit' when you're done. \"\n",
    "\n",
    "while True:\n",
    "    city = input(prompt)\n",
    "    if city == 'quit': # check whether the prompt is equal to quit\n",
    "        break\n",
    "    else:\n",
    "        print(\"I've been to \" + city + \"!\")"
   ]
  },
  {
   "cell_type": "code",
   "execution_count": 31,
   "metadata": {},
   "outputs": [
    {
     "name": "stdout",
     "output_type": "stream",
     "text": [
      "\n",
      "Add a player to your team.\n",
      "Enter 'quit' when you're done. eve\n",
      "eve is banned!\n",
      "\n",
      "Add a player to your team.\n",
      "Enter 'quit' when you're done. helen\n",
      "helen is banned!\n",
      "\n",
      "Add a player to your team.\n",
      "Enter 'quit' when you're done. quit\n",
      "\n",
      "Your team:\n"
     ]
    }
   ],
   "source": [
    "#Using continue in a loop\n",
    "#Testing if a value is not in a list\n",
    "#Letting the user choose when to quit\n",
    "      \n",
    "banned_users = ['eve', 'fred', 'gary', 'helen']\n",
    "\n",
    "prompt = \"\\nAdd a player to your team.\"\n",
    "prompt += \"\\nEnter 'quit' when you're done. \"\n",
    "\n",
    "players = []\n",
    "while True:\n",
    "    player = input(prompt)\n",
    "    if player == 'quit':\n",
    "        break\n",
    "    elif player in banned_users:\n",
    "        print(player + \" is banned!\")\n",
    "        continue\n",
    "else:\n",
    "        players.append(player)\n",
    "print(\"\\nYour team:\")\n",
    "for player in players:\n",
    "    print(player)"
   ]
  },
  {
   "cell_type": "markdown",
   "metadata": {},
   "source": [
    "## Avoiding infinite loops\n",
    "  Every while loop needs a way to stop running so it won't continue to run forever. If there's no way for the condition to become False, the loop will never stop running."
   ]
  },
  {
   "cell_type": "code",
   "execution_count": null,
   "metadata": {},
   "outputs": [
    {
     "name": "stdout",
     "output_type": "stream",
     "text": [
      "\n",
      "Who are you? Jean\n",
      "\n",
      "Who are you? Jean\n"
     ]
    }
   ],
   "source": [
    "#An infinite loop\n",
    "while True:\n",
    "     name = input(\"\\nWho are you? \")"
   ]
  },
  {
   "cell_type": "markdown",
   "metadata": {},
   "source": [
    "### Removing all Instances of a Value from a List\n",
    "The remove() method removes a specific value from a list, but it only removes the first instance of the value you provide. You can use a while loop to remove all instances of a particular value."
   ]
  },
  {
   "cell_type": "code",
   "execution_count": null,
   "metadata": {
    "collapsed": true
   },
   "outputs": [],
   "source": [
    "#Removing all cats from a list of pets\n",
    "pets = ['dog', 'cat', 'dog', 'fish', 'cat',\n",
    "            'rabbit', 'cat']\n",
    "print(pets)\n",
    "while 'cat' in pets:\n",
    "    pets.remove('cat')\n",
    "print(pets)"
   ]
  },
  {
   "cell_type": "code",
   "execution_count": null,
   "metadata": {
    "collapsed": true
   },
   "outputs": [],
   "source": []
  }
 ],
 "metadata": {
  "kernelspec": {
   "display_name": "Python 3",
   "language": "python",
   "name": "python3"
  },
  "language_info": {
   "codemirror_mode": {
    "name": "ipython",
    "version": 3
   },
   "file_extension": ".py",
   "mimetype": "text/x-python",
   "name": "python",
   "nbconvert_exporter": "python",
   "pygments_lexer": "ipython3",
   "version": "3.6.1"
  }
 },
 "nbformat": 4,
 "nbformat_minor": 2
}
