{
 "cells": [
  {
   "cell_type": "markdown",
   "metadata": {},
   "source": [
    "## What are function\n",
    "\n",
    "* Functions are named blocks of code designed to do one specific job. \n",
    "* Functions allow you to write code once that can then be run whenever you need to accomplish the same task. \n",
    "* Functions can take iformation they need  and return the information they generate.\n",
    "* Using functions effectively makes your programs easier to write, read, test, and fix\n",
    "\n",
    "### Defininf a Function\n",
    " * The first line of a function is its definition, marked by the keyword def. \n",
    " * The name of the function is followed by a set of parentheses and a colon.\n",
    " * A docstring, in triple quotes, describes what the function does. \n",
    " * The body of a function is indented one level.\n",
    " * To call a function, give the name of the function followed by a set of parentheses.\n",
    "\n"
   ]
  },
  {
   "cell_type": "code",
   "execution_count": 1,
   "metadata": {
    "collapsed": false
   },
   "outputs": [
    {
     "name": "stdout",
     "output_type": "stream",
     "text": [
      "Jambo Bwana!\n"
     ]
    }
   ],
   "source": [
    "#Making a function\n",
    "def greet_user(): # define a function call it greet_user\n",
    "    \"\"\"Display a simple greeting\"\"\" # docstring\n",
    "    print(\"Jambo Bwana!\")\n",
    "\n",
    "greet_user() # call the function by name and parenthesis"
   ]
  },
  {
   "cell_type": "markdown",
   "metadata": {},
   "source": [
    "### Passing information to a function\n",
    "* Information that's passed to a function is called an argument; \n",
    "* information that's received by a function is called a parameter.\n",
    "* Arguments are included in parentheses after the function's name, and parameters are listed in parentheses in the function's definition."
   ]
  },
  {
   "cell_type": "code",
   "execution_count": 2,
   "metadata": {
    "collapsed": false
   },
   "outputs": [
    {
     "name": "stdout",
     "output_type": "stream",
     "text": [
      "Hello, wangeci!\n",
      "Hello, njeri!\n",
      "Hello, Uhuru!\n"
     ]
    }
   ],
   "source": [
    "#passing a single argument\n",
    "def greet_user(username):\n",
    "    \"\"\"Display a simple greeting.\"\"\"\n",
    "    print(\"Hello, \" + username + \"!\")\n",
    "\n",
    "greet_user('wangeci')\n",
    "greet_user('njeri')\n",
    "greet_user('Uhuru')"
   ]
  },
  {
   "cell_type": "markdown",
   "metadata": {},
   "source": [
    "### Position and Keyword argument\n",
    "The two main kinds of arguments are positional and keyword arguments. \n",
    "* When you use positional arguments Python matches the first argument in the function call with the first parameter in the function definition, and so forth.\n",
    "* With keyword arguments, you specify which parameter each argument should be assigned to in the function call. When you use keyword arguments, the order of the arguments doesn't matter."
   ]
  },
  {
   "cell_type": "code",
   "execution_count": 8,
   "metadata": {
    "collapsed": false
   },
   "outputs": [
    {
     "name": "stdout",
     "output_type": "stream",
     "text": [
      "\n",
      "I have a hamster.\n",
      "Its name is harry.\n",
      "\n",
      "I have a dog.\n",
      "Its name is willie.\n"
     ]
    }
   ],
   "source": [
    "#Using positional arguments\n",
    "def describe_pet(animal, name):\n",
    "    \"\"\"Display information about a pet.\"\"\"\n",
    "    print(\"\\nI have a \" + animal + \".\")\n",
    "    print(\"Its name is \" + name + \".\") \n",
    "\n",
    "describe_pet('hamster','harry')\n",
    "describe_pet('dog', 'willie')\n"
   ]
  },
  {
   "cell_type": "code",
   "execution_count": 9,
   "metadata": {
    "collapsed": false
   },
   "outputs": [
    {
     "name": "stdout",
     "output_type": "stream",
     "text": [
      "\n",
      "I have a hamster.\n",
      "Its name is damie.\n"
     ]
    }
   ],
   "source": [
    "#Usingkeyword arguments\n",
    "'''Display  information about pet'''\n",
    "def describe_pet(animal, name):\n",
    "    print(\"\\nI have a \" + animal + '.')\n",
    "    print (\"Its name is \" + name + '.')\n",
    "    \n",
    "describe_pet(animal ='hamster', name ='damie')\n"
   ]
  },
  {
   "cell_type": "markdown",
   "metadata": {},
   "source": [
    "### Default Values\n",
    "* You can provide a default value for a parameter. When function calls omit this argument the default value will be used. \n",
    "* Parameters with default values must be listed after parameters without default values in the function's definition so positional arguments can still work correctly."
   ]
  },
  {
   "cell_type": "code",
   "execution_count": 11,
   "metadata": {
    "collapsed": false
   },
   "outputs": [
    {
     "name": "stdout",
     "output_type": "stream",
     "text": [
      "\n",
      "I have a hamster.\n",
      "Its name is harry.\n",
      "\n",
      "I have a dog.\n",
      "Its name is willie.\n"
     ]
    }
   ],
   "source": [
    "#Using a default value\n",
    "def describe_pet(name, animal='dog'):\n",
    "    \"\"\"Display information about a pet.\"\"\"\n",
    "    print(\"\\nI have a \" + animal + \".\")\n",
    "    print(\"Its name is \" + name + \".\")\n",
    "    \n",
    "describe_pet('harry', 'hamster')\n",
    "describe_pet('willie')"
   ]
  },
  {
   "cell_type": "code",
   "execution_count": 13,
   "metadata": {
    "collapsed": false
   },
   "outputs": [
    {
     "name": "stdout",
     "output_type": "stream",
     "text": [
      "\n",
      "I have a hamster.\n",
      "Its name is harry.\n",
      "\n",
      "I have a snake.\n"
     ]
    }
   ],
   "source": [
    "#Using None to make an argument optional\n",
    "def describe_pet(animal, name=None):\n",
    "    \"\"\"Display information about a pet.\"\"\"\n",
    "    print(\"\\nI have a \" + animal + \".\")\n",
    "    if name:\n",
    "        print(\"Its name is \" + name + \".\")\n",
    "        \n",
    "describe_pet('hamster', 'harry')\n",
    "describe_pet('snake')        "
   ]
  },
  {
   "cell_type": "markdown",
   "metadata": {},
   "source": [
    "### Return Values\n",
    "A function can return a value or a set of values. \n",
    "* When a function returns a value, the calling line must provide a variable in which to store the return value. \n",
    "* A function stops running when it reaches a return statement."
   ]
  },
  {
   "cell_type": "code",
   "execution_count": 16,
   "metadata": {
    "collapsed": false
   },
   "outputs": [],
   "source": [
    "#Returning a single value\n",
    "def get_full_name(first, last):\n",
    "    \"\"\"Return a neatly formatted full name.\"\"\"\n",
    "    full_name = first + ' ' + last\n",
    "    return full_name.title()\n",
    "\n",
    "musician = get_full_name('jimi', 'hendrix')\n",
    "print(musician)"
   ]
  },
  {
   "cell_type": "code",
   "execution_count": null,
   "metadata": {
    "collapsed": true
   },
   "outputs": [],
   "source": [
    "#Returning a dictionary\n",
    "def build_person(first, last):\n",
    "    \"\"\"Return a dictionary of information\n",
    "    about a person.\n",
    "    \"\"\"\n",
    "    person = {'first': first, 'last': last}\n",
    "    return person"
   ]
  }
 ],
 "metadata": {
  "anaconda-cloud": {},
  "kernelspec": {
   "display_name": "Python [conda env:jean-env]",
   "language": "python",
   "name": "conda-env-jean-env-py"
  },
  "language_info": {
   "codemirror_mode": {
    "name": "ipython",
    "version": 3
   },
   "file_extension": ".py",
   "mimetype": "text/x-python",
   "name": "python",
   "nbconvert_exporter": "python",
   "pygments_lexer": "ipython3",
   "version": "3.5.2"
  }
 },
 "nbformat": 4,
 "nbformat_minor": 2
}
